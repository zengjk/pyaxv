{
 "cells": [
  {
   "cell_type": "markdown",
   "metadata": {},
   "source": [
    "## An exploration analysis on papers about Quantum + Machine Learning"
   ]
  },
  {
   "cell_type": "code",
   "execution_count": 2,
   "metadata": {},
   "outputs": [],
   "source": [
    "import matplotlib.pyplot as plt\n",
    "%matplotlib inline\n",
    "import seaborn\n",
    "import warnings\n",
    "warnings.filterwarnings('ignore')\n",
    "from util import find_prime_authors, name_query\n",
    "from util import getting_citation_by_title, getting_citation_by_arxiv_id\n",
    "from pyaxv import arXiv_getter"
   ]
  },
  {
   "cell_type": "markdown",
   "metadata": {},
   "source": [
    "#### Fetch data from arXiv"
   ]
  },
  {
   "cell_type": "code",
   "execution_count": 59,
   "metadata": {},
   "outputs": [
    {
     "name": "stdout",
     "output_type": "stream",
     "text": [
      "Fetching from http://export.arxiv.org/api/query?search_query=ti%3Aneural+AND+network+AND+cat%3Aquant-ph&sortBy=lastUpdatedDate&sortOrder=descending&start=0&max_results=1000\n",
      "Fetching from http://export.arxiv.org/api/query?search_query=ti%3Aneural+AND+network+AND+cat%3Acond-mat.dis-nn&sortBy=lastUpdatedDate&sortOrder=descending&start=0&max_results=1000\n",
      "Fetching from http://export.arxiv.org/api/query?search_query=ti%3Aneural+AND+network+AND+cat%3Acond-mat.mtrl-sci&sortBy=lastUpdatedDate&sortOrder=descending&start=0&max_results=1000\n",
      "Fetching from http://export.arxiv.org/api/query?search_query=ti%3Aneural+AND+network+AND+cat%3Acond-mat.mes-hall&sortBy=lastUpdatedDate&sortOrder=descending&start=0&max_results=1000\n",
      "Fetching from http://export.arxiv.org/api/query?search_query=ti%3Aneural+AND+network+AND+cat%3Acond-mat.other&sortBy=lastUpdatedDate&sortOrder=descending&start=0&max_results=1000\n",
      "Fetching from http://export.arxiv.org/api/query?search_query=ti%3Aneural+AND+network+AND+cat%3Acond-mat.quant-gas&sortBy=lastUpdatedDate&sortOrder=descending&start=0&max_results=1000\n",
      "Fetching from http://export.arxiv.org/api/query?search_query=ti%3Aneural+AND+network+AND+cat%3Acond-mat.soft&sortBy=lastUpdatedDate&sortOrder=descending&start=0&max_results=1000\n",
      "Fetching from http://export.arxiv.org/api/query?search_query=ti%3Aneural+AND+network+AND+cat%3Acond-mat.stat-mech&sortBy=lastUpdatedDate&sortOrder=descending&start=0&max_results=1000\n",
      "Fetching from http://export.arxiv.org/api/query?search_query=ti%3Aneural+AND+network+AND+cat%3Acond-mat.str-el&sortBy=lastUpdatedDate&sortOrder=descending&start=0&max_results=1000\n",
      "Fetching from http://export.arxiv.org/api/query?search_query=ti%3Aneural+AND+network+AND+cat%3Acond-mat.supr-con&sortBy=lastUpdatedDate&sortOrder=descending&start=0&max_results=1000\n",
      "Fetching from http://export.arxiv.org/api/query?search_query=ti%3Aneural+AND+network+AND+cat%3Ahep-th&sortBy=lastUpdatedDate&sortOrder=descending&start=0&max_results=1000\n",
      "Fetching from http://export.arxiv.org/api/query?search_query=ti%3Aneural+AND+network+AND+cat%3Ahep-ph&sortBy=lastUpdatedDate&sortOrder=descending&start=0&max_results=1000\n",
      "Fetching from http://export.arxiv.org/api/query?search_query=ti%3Aneural+AND+network+AND+cat%3Ahep-lat&sortBy=lastUpdatedDate&sortOrder=descending&start=0&max_results=1000\n",
      "Fetching from http://export.arxiv.org/api/query?search_query=ti%3Aneural+AND+network+AND+cat%3Amath-ph&sortBy=lastUpdatedDate&sortOrder=descending&start=0&max_results=1000\n",
      "Fetching from http://export.arxiv.org/api/query?search_query=ti%3Alearning+AND+cat%3Aquant-ph&sortBy=lastUpdatedDate&sortOrder=descending&start=0&max_results=1000\n",
      "Fetching from http://export.arxiv.org/api/query?search_query=ti%3Alearning+AND+cat%3Acond-mat.dis-nn&sortBy=lastUpdatedDate&sortOrder=descending&start=0&max_results=1000\n",
      "Fetching from http://export.arxiv.org/api/query?search_query=ti%3Alearning+AND+cat%3Acond-mat.mtrl-sci&sortBy=lastUpdatedDate&sortOrder=descending&start=0&max_results=1000\n",
      "Fetching from http://export.arxiv.org/api/query?search_query=ti%3Alearning+AND+cat%3Acond-mat.mes-hall&sortBy=lastUpdatedDate&sortOrder=descending&start=0&max_results=1000\n",
      "Fetching from http://export.arxiv.org/api/query?search_query=ti%3Alearning+AND+cat%3Acond-mat.other&sortBy=lastUpdatedDate&sortOrder=descending&start=0&max_results=1000\n",
      "Fetching from http://export.arxiv.org/api/query?search_query=ti%3Alearning+AND+cat%3Acond-mat.quant-gas&sortBy=lastUpdatedDate&sortOrder=descending&start=0&max_results=1000\n",
      "Fetching from http://export.arxiv.org/api/query?search_query=ti%3Alearning+AND+cat%3Acond-mat.soft&sortBy=lastUpdatedDate&sortOrder=descending&start=0&max_results=1000\n",
      "Fetching from http://export.arxiv.org/api/query?search_query=ti%3Alearning+AND+cat%3Acond-mat.stat-mech&sortBy=lastUpdatedDate&sortOrder=descending&start=0&max_results=1000\n",
      "Fetching from http://export.arxiv.org/api/query?search_query=ti%3Alearning+AND+cat%3Acond-mat.str-el&sortBy=lastUpdatedDate&sortOrder=descending&start=0&max_results=1000\n",
      "Fetching from http://export.arxiv.org/api/query?search_query=ti%3Alearning+AND+cat%3Acond-mat.supr-con&sortBy=lastUpdatedDate&sortOrder=descending&start=0&max_results=1000\n",
      "Fetching from http://export.arxiv.org/api/query?search_query=ti%3Alearning+AND+cat%3Ahep-th&sortBy=lastUpdatedDate&sortOrder=descending&start=0&max_results=1000\n",
      "Fetching from http://export.arxiv.org/api/query?search_query=ti%3Alearning+AND+cat%3Ahep-ph&sortBy=lastUpdatedDate&sortOrder=descending&start=0&max_results=1000\n",
      "Fetching from http://export.arxiv.org/api/query?search_query=ti%3Alearning+AND+cat%3Ahep-lat&sortBy=lastUpdatedDate&sortOrder=descending&start=0&max_results=1000\n",
      "Fetching from http://export.arxiv.org/api/query?search_query=ti%3Alearning+AND+cat%3Amath-ph&sortBy=lastUpdatedDate&sortOrder=descending&start=0&max_results=1000\n",
      "Fetching from http://export.arxiv.org/api/query?search_query=ti%3Aboltzmann+AND+machine+AND+cat%3Aquant-ph&sortBy=lastUpdatedDate&sortOrder=descending&start=0&max_results=1000\n",
      "Fetching from http://export.arxiv.org/api/query?search_query=ti%3Aboltzmann+AND+machine+AND+cat%3Acond-mat.dis-nn&sortBy=lastUpdatedDate&sortOrder=descending&start=0&max_results=1000\n",
      "Fetching from http://export.arxiv.org/api/query?search_query=ti%3Aboltzmann+AND+machine+AND+cat%3Acond-mat.mtrl-sci&sortBy=lastUpdatedDate&sortOrder=descending&start=0&max_results=1000\n",
      "Fetching from http://export.arxiv.org/api/query?search_query=ti%3Aboltzmann+AND+machine+AND+cat%3Acond-mat.mes-hall&sortBy=lastUpdatedDate&sortOrder=descending&start=0&max_results=1000\n",
      "Fetching from http://export.arxiv.org/api/query?search_query=ti%3Aboltzmann+AND+machine+AND+cat%3Acond-mat.other&sortBy=lastUpdatedDate&sortOrder=descending&start=0&max_results=1000\n",
      "Fetching from http://export.arxiv.org/api/query?search_query=ti%3Aboltzmann+AND+machine+AND+cat%3Acond-mat.quant-gas&sortBy=lastUpdatedDate&sortOrder=descending&start=0&max_results=1000\n",
      "Fetching from http://export.arxiv.org/api/query?search_query=ti%3Aboltzmann+AND+machine+AND+cat%3Acond-mat.soft&sortBy=lastUpdatedDate&sortOrder=descending&start=0&max_results=1000\n",
      "Fetching from http://export.arxiv.org/api/query?search_query=ti%3Aboltzmann+AND+machine+AND+cat%3Acond-mat.stat-mech&sortBy=lastUpdatedDate&sortOrder=descending&start=0&max_results=1000\n",
      "Fetching from http://export.arxiv.org/api/query?search_query=ti%3Aboltzmann+AND+machine+AND+cat%3Acond-mat.str-el&sortBy=lastUpdatedDate&sortOrder=descending&start=0&max_results=1000\n",
      "Fetching from http://export.arxiv.org/api/query?search_query=ti%3Aboltzmann+AND+machine+AND+cat%3Acond-mat.supr-con&sortBy=lastUpdatedDate&sortOrder=descending&start=0&max_results=1000\n",
      "Fetching from http://export.arxiv.org/api/query?search_query=ti%3Aboltzmann+AND+machine+AND+cat%3Ahep-th&sortBy=lastUpdatedDate&sortOrder=descending&start=0&max_results=1000\n",
      "Fetching from http://export.arxiv.org/api/query?search_query=ti%3Aboltzmann+AND+machine+AND+cat%3Ahep-ph&sortBy=lastUpdatedDate&sortOrder=descending&start=0&max_results=1000\n",
      "Fetching from http://export.arxiv.org/api/query?search_query=ti%3Aboltzmann+AND+machine+AND+cat%3Ahep-lat&sortBy=lastUpdatedDate&sortOrder=descending&start=0&max_results=1000\n",
      "Fetching from http://export.arxiv.org/api/query?search_query=ti%3Aboltzmann+AND+machine+AND+cat%3Amath-ph&sortBy=lastUpdatedDate&sortOrder=descending&start=0&max_results=1000\n",
      "Fetching from http://export.arxiv.org/api/query?search_query=ti%3Arecognition+AND+cat%3Aquant-ph&sortBy=lastUpdatedDate&sortOrder=descending&start=0&max_results=1000\n",
      "Fetching from http://export.arxiv.org/api/query?search_query=ti%3Arecognition+AND+cat%3Acond-mat.dis-nn&sortBy=lastUpdatedDate&sortOrder=descending&start=0&max_results=1000\n",
      "Fetching from http://export.arxiv.org/api/query?search_query=ti%3Arecognition+AND+cat%3Acond-mat.mtrl-sci&sortBy=lastUpdatedDate&sortOrder=descending&start=0&max_results=1000\n",
      "Fetching from http://export.arxiv.org/api/query?search_query=ti%3Arecognition+AND+cat%3Acond-mat.mes-hall&sortBy=lastUpdatedDate&sortOrder=descending&start=0&max_results=1000\n",
      "Fetching from http://export.arxiv.org/api/query?search_query=ti%3Arecognition+AND+cat%3Acond-mat.other&sortBy=lastUpdatedDate&sortOrder=descending&start=0&max_results=1000\n"
     ]
    },
    {
     "name": "stdout",
     "output_type": "stream",
     "text": [
      "Fetching from http://export.arxiv.org/api/query?search_query=ti%3Arecognition+AND+cat%3Acond-mat.quant-gas&sortBy=lastUpdatedDate&sortOrder=descending&start=0&max_results=1000\n",
      "Fetching from http://export.arxiv.org/api/query?search_query=ti%3Arecognition+AND+cat%3Acond-mat.soft&sortBy=lastUpdatedDate&sortOrder=descending&start=0&max_results=1000\n",
      "Fetching from http://export.arxiv.org/api/query?search_query=ti%3Arecognition+AND+cat%3Acond-mat.stat-mech&sortBy=lastUpdatedDate&sortOrder=descending&start=0&max_results=1000\n",
      "Fetching from http://export.arxiv.org/api/query?search_query=ti%3Arecognition+AND+cat%3Acond-mat.str-el&sortBy=lastUpdatedDate&sortOrder=descending&start=0&max_results=1000\n",
      "Fetching from http://export.arxiv.org/api/query?search_query=ti%3Arecognition+AND+cat%3Acond-mat.supr-con&sortBy=lastUpdatedDate&sortOrder=descending&start=0&max_results=1000\n",
      "Fetching from http://export.arxiv.org/api/query?search_query=ti%3Arecognition+AND+cat%3Ahep-th&sortBy=lastUpdatedDate&sortOrder=descending&start=0&max_results=1000\n",
      "Fetching from http://export.arxiv.org/api/query?search_query=ti%3Arecognition+AND+cat%3Ahep-ph&sortBy=lastUpdatedDate&sortOrder=descending&start=0&max_results=1000\n",
      "Fetching from http://export.arxiv.org/api/query?search_query=ti%3Arecognition+AND+cat%3Ahep-lat&sortBy=lastUpdatedDate&sortOrder=descending&start=0&max_results=1000\n",
      "Fetching from http://export.arxiv.org/api/query?search_query=ti%3Arecognition+AND+cat%3Amath-ph&sortBy=lastUpdatedDate&sortOrder=descending&start=0&max_results=1000\n",
      "Totally 1740 entries\n"
     ]
    }
   ],
   "source": [
    "arxiv_getter = arXiv_getter()\n",
    "query = ['neural network','learning','boltzmann machine','recognition']\n",
    "category = ['quant-ph','cond-mat.dis-nn','cond-mat.mtrl-sci',\n",
    "            'cond-mat.mes-hall','cond-mat.other','cond-mat.quant-gas',\n",
    "           'cond-mat.soft','cond-mat.stat-mech','cond-mat.str-el','cond-mat.supr-con',\n",
    "           'hep-th','hep-ph','hep-lat','math-ph']\n",
    "df = arxiv_getter.get(query, category)"
   ]
  },
  {
   "cell_type": "markdown",
   "metadata": {},
   "source": [
    "Some paper titled 'what can we learn from' are usually not related to machine learning. Remove them."
   ]
  },
  {
   "cell_type": "code",
   "execution_count": 72,
   "metadata": {},
   "outputs": [],
   "source": [
    "df = df.drop(df.index[(df['title'].apply(lambda t: 'we learn' in t.lower()))])"
   ]
  },
  {
   "cell_type": "code",
   "execution_count": 74,
   "metadata": {},
   "outputs": [
    {
     "data": {
      "text/plain": [
       "(1647, 15)"
      ]
     },
     "execution_count": 74,
     "metadata": {},
     "output_type": "execute_result"
    }
   ],
   "source": [
    "df.shape"
   ]
  },
  {
   "cell_type": "markdown",
   "metadata": {},
   "source": [
    "#### Some distributions"
   ]
  },
  {
   "cell_type": "code",
   "execution_count": 75,
   "metadata": {},
   "outputs": [
    {
     "data": {
      "image/png": "[encoded data removed]",
      "text/plain": [
       "<Figure size 720x504 with 4 Axes>"
      ]
     },
     "metadata": {
      "needs_background": "light"
     },
     "output_type": "display_data"
    }
   ],
   "source": [
    "f, axs = plt.subplots(2,2,figsize=(10,7))\n",
    "\n",
    "plt.subplot(2,2,1)\n",
    "seaborn.distplot(df.pages[df.pages.notnull()],hist=True,bins=50)\n",
    "_ = plt.xlabel('Number of pages')\n",
    "_ = plt.ylabel('Count')\n",
    "\n",
    "plt.subplot(2,2,2)\n",
    "seaborn.distplot(df.figures[df.figures.notnull()],hist=True,bins=40)\n",
    "#_,_,ax = plt.hist(df.figures,bins=40)\n",
    "_ = plt.xlabel('Number of Figures')\n",
    "_ = plt.ylabel('Count')\n",
    "\n",
    "plt.subplot(2,2,3)\n",
    "seaborn.countplot(x=\"num_of_authors\", data=df)\n",
    "#_,_,ax = plt.hist(df.num_of_authors,bins=30)\n",
    "_ = plt.xlabel('Number of authors')\n",
    "_ = plt.ylabel('Count')\n",
    "\n",
    "plt.subplot(2,2,4)\n",
    "seaborn.countplot(x=\"title_length\", data=df)\n",
    "_ = plt.xlabel('Title lengths')\n",
    "_ = plt.ylabel('Count')"
   ]
  },
  {
   "cell_type": "markdown",
   "metadata": {},
   "source": [
    "#### Let's have a look at who contributes most in this area"
   ]
  },
  {
   "cell_type": "code",
   "execution_count": 110,
   "metadata": {},
   "outputs": [
    {
     "name": "stdout",
     "output_type": "stream",
     "text": [
      "Number of prime authors(publication > 6): 40 \n",
      "total number of papers contributed by these people: 395\n"
     ]
    }
   ],
   "source": [
    "th=6\n",
    "names = find_prime_authors(df, threshold=th)\n",
    "print('Number of prime authors(publication > {}): {} '.format(th, len(names)))\n",
    "print('total number of papers contributed by these people: ' + str(sum(names)))"
   ]
  },
  {
   "cell_type": "markdown",
   "metadata": {},
   "source": [
    "#### Visualization"
   ]
  },
  {
   "cell_type": "code",
   "execution_count": 111,
   "metadata": {},
   "outputs": [
    {
     "data": {
      "image/png": "[encoded data removed]",
      "text/plain": [
       "<Figure size 720x720 with 1 Axes>"
      ]
     },
     "metadata": {
      "needs_background": "light"
     },
     "output_type": "display_data"
    }
   ],
   "source": [
    "plt.figure(figsize=(10,10))\n",
    "ax = plt.subplot(1,1,1)  \n",
    "plt.xticks(list(range(5,max(names)+1)))\n",
    "plt.xlim([names[20]-3,max(names)+1])\n",
    "plt.xlabel('Number of papers')\n",
    "_ = names[:20].plot.barh()\n",
    "\n",
    "for i, v in enumerate(names[:20]):\n",
    "    ax.text(v+0.1 , i-0.1, str(v), color='black', )"
   ]
  },
  {
   "cell_type": "markdown",
   "metadata": {},
   "source": [
    "#### Let's have a look at these papers published by Nathan Wiebe, for example"
   ]
  },
  {
   "cell_type": "code",
   "execution_count": 113,
   "metadata": {},
   "outputs": [
    {
     "data": {
      "text/html": [
       "<div>\n",
       "<style scoped>\n",
       "    .dataframe tbody tr th:only-of-type {\n",
       "        vertical-align: middle;\n",
       "    }\n",
       "\n",
       "    .dataframe tbody tr th {\n",
       "        vertical-align: top;\n",
       "    }\n",
       "\n",
       "    .dataframe thead th {\n",
       "        text-align: right;\n",
       "    }\n",
       "</style>\n",
       "<table border=\"1\" class=\"dataframe\">\n",
       "  <thead>\n",
       "    <tr style=\"text-align: right;\">\n",
       "      <th></th>\n",
       "      <th>arxiv_id</th>\n",
       "      <th>title</th>\n",
       "      <th>year_of_publish</th>\n",
       "      <th>month_of_publish</th>\n",
       "    </tr>\n",
       "  </thead>\n",
       "  <tbody>\n",
       "    <tr>\n",
       "      <th>732</th>\n",
       "      <td>1807.09753v1</td>\n",
       "      <td>Magnetic-field-learning using a single electro...</td>\n",
       "      <td>2018</td>\n",
       "      <td>7</td>\n",
       "    </tr>\n",
       "    <tr>\n",
       "      <th>753</th>\n",
       "      <td>1611.09347v2</td>\n",
       "      <td>Quantum Machine Learning</td>\n",
       "      <td>2016</td>\n",
       "      <td>11</td>\n",
       "    </tr>\n",
       "    <tr>\n",
       "      <th>783</th>\n",
       "      <td>1712.07570v1</td>\n",
       "      <td>Experimental Phase Estimation Enhanced By Mach...</td>\n",
       "      <td>2017</td>\n",
       "      <td>12</td>\n",
       "    </tr>\n",
       "    <tr>\n",
       "      <th>790</th>\n",
       "      <td>1711.06652v1</td>\n",
       "      <td>Hardening Quantum Machine Learning Against Adv...</td>\n",
       "      <td>2017</td>\n",
       "      <td>11</td>\n",
       "    </tr>\n",
       "    <tr>\n",
       "      <th>818</th>\n",
       "      <td>1703.05402v1</td>\n",
       "      <td>Experimental Quantum Hamiltonian Learning</td>\n",
       "      <td>2017</td>\n",
       "      <td>3</td>\n",
       "    </tr>\n",
       "    <tr>\n",
       "      <th>839</th>\n",
       "      <td>1512.03145v1</td>\n",
       "      <td>Can small quantum systems learn?</td>\n",
       "      <td>2015</td>\n",
       "      <td>12</td>\n",
       "    </tr>\n",
       "    <tr>\n",
       "      <th>850</th>\n",
       "      <td>1412.3489v2</td>\n",
       "      <td>Quantum Deep Learning</td>\n",
       "      <td>2014</td>\n",
       "      <td>12</td>\n",
       "    </tr>\n",
       "    <tr>\n",
       "      <th>851</th>\n",
       "      <td>1409.1524v3</td>\n",
       "      <td>Quantum Bootstrapping via Compressed Quantum H...</td>\n",
       "      <td>2014</td>\n",
       "      <td>9</td>\n",
       "    </tr>\n",
       "    <tr>\n",
       "      <th>863</th>\n",
       "      <td>1401.2142v2</td>\n",
       "      <td>Quantum Algorithms for Nearest-Neighbor Method...</td>\n",
       "      <td>2014</td>\n",
       "      <td>1</td>\n",
       "    </tr>\n",
       "    <tr>\n",
       "      <th>868</th>\n",
       "      <td>1311.5269v2</td>\n",
       "      <td>Quantum Hamiltonian Learning Using Imperfect Q...</td>\n",
       "      <td>2013</td>\n",
       "      <td>11</td>\n",
       "    </tr>\n",
       "    <tr>\n",
       "      <th>871</th>\n",
       "      <td>1401.4507v1</td>\n",
       "      <td>Using Quantum Computers to Learn Physics</td>\n",
       "      <td>2014</td>\n",
       "      <td>1</td>\n",
       "    </tr>\n",
       "    <tr>\n",
       "      <th>876</th>\n",
       "      <td>1309.0876v1</td>\n",
       "      <td>Hamiltonian Learning and Certification Using Q...</td>\n",
       "      <td>2013</td>\n",
       "      <td>9</td>\n",
       "    </tr>\n",
       "    <tr>\n",
       "      <th>882</th>\n",
       "      <td>1207.1655v2</td>\n",
       "      <td>Robust Online Hamiltonian Learning</td>\n",
       "      <td>2012</td>\n",
       "      <td>7</td>\n",
       "    </tr>\n",
       "    <tr>\n",
       "      <th>1640</th>\n",
       "      <td>1612.05204v1</td>\n",
       "      <td>Tomography and Generative Data Modeling via Qu...</td>\n",
       "      <td>2016</td>\n",
       "      <td>12</td>\n",
       "    </tr>\n",
       "    <tr>\n",
       "      <th>1644</th>\n",
       "      <td>1507.02642v1</td>\n",
       "      <td>Quantum Inspired Training for Boltzmann Machines</td>\n",
       "      <td>2015</td>\n",
       "      <td>7</td>\n",
       "    </tr>\n",
       "    <tr>\n",
       "      <th>1670</th>\n",
       "      <td>1712.06863v1</td>\n",
       "      <td>Pattern recognition techniques for Boson Sampl...</td>\n",
       "      <td>2017</td>\n",
       "      <td>12</td>\n",
       "    </tr>\n",
       "  </tbody>\n",
       "</table>\n",
       "</div>"
      ],
      "text/plain": [
       "          arxiv_id                                              title  \\\n",
       "732   1807.09753v1  Magnetic-field-learning using a single electro...   \n",
       "753   1611.09347v2                           Quantum Machine Learning   \n",
       "783   1712.07570v1  Experimental Phase Estimation Enhanced By Mach...   \n",
       "790   1711.06652v1  Hardening Quantum Machine Learning Against Adv...   \n",
       "818   1703.05402v1          Experimental Quantum Hamiltonian Learning   \n",
       "839   1512.03145v1                   Can small quantum systems learn?   \n",
       "850    1412.3489v2                              Quantum Deep Learning   \n",
       "851    1409.1524v3  Quantum Bootstrapping via Compressed Quantum H...   \n",
       "863    1401.2142v2  Quantum Algorithms for Nearest-Neighbor Method...   \n",
       "868    1311.5269v2  Quantum Hamiltonian Learning Using Imperfect Q...   \n",
       "871    1401.4507v1           Using Quantum Computers to Learn Physics   \n",
       "876    1309.0876v1  Hamiltonian Learning and Certification Using Q...   \n",
       "882    1207.1655v2                 Robust Online Hamiltonian Learning   \n",
       "1640  1612.05204v1  Tomography and Generative Data Modeling via Qu...   \n",
       "1644  1507.02642v1   Quantum Inspired Training for Boltzmann Machines   \n",
       "1670  1712.06863v1  Pattern recognition techniques for Boson Sampl...   \n",
       "\n",
       "      year_of_publish  month_of_publish  \n",
       "732              2018                 7  \n",
       "753              2016                11  \n",
       "783              2017                12  \n",
       "790              2017                11  \n",
       "818              2017                 3  \n",
       "839              2015                12  \n",
       "850              2014                12  \n",
       "851              2014                 9  \n",
       "863              2014                 1  \n",
       "868              2013                11  \n",
       "871              2014                 1  \n",
       "876              2013                 9  \n",
       "882              2012                 7  \n",
       "1640             2016                12  \n",
       "1644             2015                 7  \n",
       "1670             2017                12  "
      ]
     },
     "execution_count": 113,
     "metadata": {},
     "output_type": "execute_result"
    }
   ],
   "source": [
    "name_query(df,'wiebe')[['arxiv_id', 'title', 'year_of_publish','month_of_publish']]"
   ]
  },
  {
   "cell_type": "markdown",
   "metadata": {},
   "source": [
    "When did this hype start?"
   ]
  },
  {
   "cell_type": "code",
   "execution_count": 115,
   "metadata": {},
   "outputs": [
    {
     "data": {
      "text/plain": [
       "Text(0, 0.5, 'Number of papers')"
      ]
     },
     "execution_count": 115,
     "metadata": {},
     "output_type": "execute_result"
    },
    {
     "data": {
      "image/png": "[encoded data removed]",
      "text/plain": [
       "<Figure size 432x288 with 1 Axes>"
      ]
     },
     "metadata": {
      "needs_background": "light"
     },
     "output_type": "display_data"
    }
   ],
   "source": [
    "plt.plot(df.year_of_publish.value_counts().sort_index(),'.-')\n",
    "plt.xlabel('Year')\n",
    "plt.ylabel('Number of papers')"
   ]
  },
  {
   "cell_type": "code",
   "execution_count": null,
   "metadata": {},
   "outputs": [],
   "source": [
    "citations = []\n",
    "for e, arxiv_id in enumerate(list(df.arxiv_id)):\n",
    "    print(e, arxiv_id)\n",
    "    citations.append(getting_citation_by_arxiv_id(arxiv_id))"
   ]
  },
  {
   "cell_type": "code",
   "execution_count": null,
   "metadata": {},
   "outputs": [],
   "source": []
  }
 ],
 "metadata": {
  "kernelspec": {
   "display_name": "Python 3",
   "language": "python",
   "name": "python3"
  },
  "language_info": {
   "codemirror_mode": {
    "name": "ipython",
    "version": 3
   },
   "file_extension": ".py",
   "mimetype": "text/x-python",
   "name": "python",
   "nbconvert_exporter": "python",
   "pygments_lexer": "ipython3",
   "version": "3.6.7"
  }
 },
 "nbformat": 4,
 "nbformat_minor": 2
}
